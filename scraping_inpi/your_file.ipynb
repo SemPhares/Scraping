{
 "cells": [
  {
   "cell_type": "code",
   "execution_count": null,
   "source": [
    "import time\r\n",
    "from random import randint\r\n",
    "from selenium import webdriver\r\n",
    "from selenium.webdriver.common.by import By\r\n",
    "from selenium.webdriver.support.ui import WebDriverWait\r\n",
    "from selenium.webdriver.common.action_chains import ActionChains\r\n",
    "# from selenium.webdriver.support import expected_conditions as EC\r\n",
    "\r\n",
    "# create webdriver object\r\n",
    "driver = webdriver.Chrome(executable_path=\"../chromedriver.exe\")\r\n",
    "# driver = webdriver.Firefox(executable_path='../geckodriver.exe')\r\n",
    "\r\n",
    "#load the page\r\n",
    "driver.get(\"https://data.inpi.fr\")\r\n",
    "\r\n",
    "#make the request\r\n",
    "req = driver.find_element_by_class_name(\"search-input\")\r\n",
    "req.clear()\r\n",
    "req.send_keys('Societe generale')\r\n",
    "req.submit()\r\n",
    "\r\n",
    "time.sleep(randint(3,6))\r\n",
    "\r\n",
    "# #navigate through the pages\r\n",
    "# nexts = driver.find_elements(By.XPATH, \"//a[contains(@class,'mr-3 ')]\")\r\n",
    "# for next_ in nexts: #range(len(nexts)-1):\r\n",
    "#     next_.click()\r\n",
    "\r\n",
    "#get the link on the page\r\n",
    "elems = driver.find_elements(By.XPATH, \"//a[contains(@class,'not-link')]\")\r\n",
    "links = list(set([elem.get_attribute('href') for elem in elems]))\r\n",
    "# len(links)\r\n",
    "\r\n",
    "#get the information for each link\r\n",
    "for i in range(0,len(links)):\r\n",
    "    driver.get(links[i])\r\n",
    "    time.sleep(randint(2,4))\r\n",
    "    download_button = driver.find_element_by_xpath(\"//div[@title='Télécharger'][contains(@class,'p-0')]\")\r\n",
    "    ActionChains(driver).move_to_element(download_button).click(download_button).perform()\r\n",
    "    # download_button.click()\r\n",
    "    driver.implicitly_wait(randint(5,10))\r\n",
    "\r\n",
    "\r\n",
    "driver.close()"
   ],
   "outputs": [],
   "metadata": {}
  },
  {
   "cell_type": "code",
   "execution_count": 202,
   "source": [
    "import time\r\n",
    "from random import randint\r\n",
    "from selenium import webdriver\r\n",
    "from selenium.webdriver.common.by import By\r\n",
    "from selenium.webdriver.support.ui import WebDriverWait\r\n",
    "from selenium.webdriver.support import expected_conditions as EC\r\n",
    "# create webdriver object\r\n",
    "driver = webdriver.Chrome(executable_path=\"chromedriver.exe\")\r\n",
    "# driver = webdriver.Firefox(executable_path='geckodriver.exe')"
   ],
   "outputs": [],
   "metadata": {}
  },
  {
   "cell_type": "code",
   "execution_count": 203,
   "source": [
    "#load the page\r\n",
    "driver.get(\"https://data.inpi.fr\") #/login\r\n",
    "# time.sleep(15)\r\n",
    "\r\n",
    "#accept the cookies\r\n",
    "# try:\r\n",
    "#     driver.find_element_by_id(\"tarteaucitronPersonalize2\").click()\r\n",
    "# except:\r\n",
    "#     pass"
   ],
   "outputs": [],
   "metadata": {}
  },
  {
   "cell_type": "code",
   "execution_count": 204,
   "source": [
    "#make the request\r\n",
    "req = driver.find_element_by_class_name(\"search-input\")\r\n",
    "req.clear()\r\n",
    "req.send_keys('SG')\r\n",
    "req.submit()\r\n",
    "\r\n",
    "# driver.find_element(By.XPATH, \"//span[contains(@class,'d-none')]\").click()\r\n",
    "\r\n",
    "#accept the cookies\r\n",
    "# driver.implicitly_wait(3)\r\n",
    "# try:\r\n",
    "#     driver.find_element_by_id(\"tarteaucitronPersonalize2\").click()\r\n",
    "# except:\r\n",
    "#     pass"
   ],
   "outputs": [],
   "metadata": {}
  },
  {
   "cell_type": "code",
   "execution_count": null,
   "source": [
    "#navigate through the pages\r\n",
    "nexts = driver.find_elements(By.XPATH, \"//a[contains(@class,'mr-3 ')]\")\r\n",
    "for next_ in nexts: #range(len(nexts)-1):\r\n",
    "    next_.click()"
   ],
   "outputs": [],
   "metadata": {}
  },
  {
   "cell_type": "code",
   "execution_count": 205,
   "source": [
    "#get the link on the page\r\n",
    "elems = driver.find_elements(By.XPATH, \"//a[contains(@class,'not-link')]\")\r\n",
    "links = list(set([elem.get_attribute('href') for elem in elems]))\r\n",
    "len(links)"
   ],
   "outputs": [
    {
     "output_type": "execute_result",
     "data": {
      "text/plain": [
       "20"
      ]
     },
     "metadata": {},
     "execution_count": 205
    }
   ],
   "metadata": {}
  },
  {
   "cell_type": "code",
   "execution_count": 212,
   "source": [
    "#get the information for each link\r\n",
    "for i in range(0,len(links)):\r\n",
    "    driver.get(links[i])\r\n",
    "    download_button = driver.find_element_by_xpath(\"//div[contains(@class,'col-2')][@title='Télécharger']\")\r\n",
    "    download_button.click()\r\n",
    "    driver.implicitly_wait(randint(5,10))"
   ],
   "outputs": [],
   "metadata": {}
  },
  {
   "cell_type": "code",
   "execution_count": 196,
   "source": [
    "driver.close()"
   ],
   "outputs": [],
   "metadata": {}
  },
  {
   "cell_type": "code",
   "execution_count": 210,
   "source": [
    "pdf = driver.find_element_by_xpath(\"//div[contains(@class,'col-2')][@title='Télécharger']\")\r\n",
    "pdf.click()"
   ],
   "outputs": [],
   "metadata": {}
  },
  {
   "cell_type": "code",
   "execution_count": 209,
   "source": [
    "pdf = driver.find_element_by_xpath(\"//img[contains(@class,'pointer')][@role='button']\")\r\n",
    "pdf.click()"
   ],
   "outputs": [],
   "metadata": {}
  },
  {
   "cell_type": "code",
   "execution_count": 1,
   "source": [
    "import glob\r\n",
    "import os\r\n",
    "import pdfplumber"
   ],
   "outputs": [],
   "metadata": {}
  },
  {
   "cell_type": "code",
   "execution_count": 13,
   "source": [
    "def extractTextPdf(pathPDF,nameFileText):\r\n",
    "    \"\"\"\r\n",
    "        use this function to extract text in pdf and save  this text in nameFileText\r\n",
    "        @param pathPDF: is the path to the pdf file\r\n",
    "        @param nameFileText: the path as well as the name or the file will be downloaded       \r\n",
    "    \"\"\"    \r\n",
    "    metaData = dict()\r\n",
    "\r\n",
    "    try:\r\n",
    "        text_file = open(nameFileText+\".txt\", \"w\")\r\n",
    "        pdfRead = pdfplumber.open(pathPDF)\r\n",
    "\r\n",
    "        for i in range(len(pdfRead.pages)):\r\n",
    "            texteContain = pdfRead.pages[i].extract_text()\r\n",
    "            text_file.write(texteContain)\r\n",
    "        \r\n",
    "        try:\r\n",
    "            metaData[\"creationDate\"] = pdfRead.metadata[\"CreationDate\"]\r\n",
    "        except:\r\n",
    "            pass\r\n",
    "        try:\r\n",
    "            metaData[\"keywords\"] = pdfRead.metadata[\"Keywords\"]\r\n",
    "        except:\r\n",
    "            # print('ok')\r\n",
    "            pass\r\n",
    "        try:\r\n",
    "            metaData[\"autors\"] = pdfRead.metadata[\"Author\"]\r\n",
    "        except:\r\n",
    "            pass\r\n",
    "        try:\r\n",
    "            metaData[\"subjectDoc\"] = pdfRead.metadata[\"Subject\"]\r\n",
    "        except:\r\n",
    "            pass\r\n",
    "        try:\r\n",
    "            metaData[\"title\"] = pdfRead.metadata[\"Title\"]\r\n",
    "        except:\r\n",
    "            pass\r\n",
    "        try:\r\n",
    "            metaData[\"pathPdfFile\"] = pathPDF\r\n",
    "        except:\r\n",
    "            pass\r\n",
    "\r\n",
    "        try:\r\n",
    "            metaData[\"pathTextExtractor\"] = nameFileText\r\n",
    "        except:\r\n",
    "            pass\r\n",
    "\r\n",
    "        text_file.close()\r\n",
    "\r\n",
    "        print(pathPDF.split('\\\\')[-1]+\"....Extracted\")\r\n",
    "\r\n",
    "    except:\r\n",
    "\r\n",
    "        print(\"Error Save Text Pdf\")\r\n",
    "        return \"ERROR\"\r\n",
    "\r\n",
    "    return nameFileText+\".txt\",metaData"
   ],
   "outputs": [],
   "metadata": {}
  },
  {
   "cell_type": "code",
   "execution_count": null,
   "source": [
    "files = glob.glob(\"../../Downloads/*pdf\")\r\n",
    "for i in range(len(files)):\r\n",
    "    extractTextPdf(files[i],str(i))\r\n",
    "    # os.remove(doc)"
   ],
   "outputs": [],
   "metadata": {}
  },
  {
   "cell_type": "code",
   "execution_count": 93,
   "source": [
    "import pandas as pd"
   ],
   "outputs": [],
   "metadata": {}
  },
  {
   "cell_type": "code",
   "execution_count": 117,
   "source": [
    "def extract_data(filename):\r\n",
    "    with open(filename,'r') as f:\r\n",
    "        data = f.read()\r\n",
    "\r\n",
    "        desc_start = data.find((\"Activité principale :\"))\r\n",
    "        desc_end = data.find((\"Capital social :\"))\r\n",
    "\r\n",
    "        table = {}\r\n",
    "        for line in data.split('\\n'):\r\n",
    "            key_value = line.split(\":\")\r\n",
    "            if len(key_value)!=2 or len(key_value[0])>30:\r\n",
    "                continue\r\n",
    "            else:\r\n",
    "                if key_value[0] in table:\r\n",
    "                    table.update({key_value[0]:[key_value[1]]})\r\n",
    "                else:\r\n",
    "                    table[key_value[0]] = [key_value[1]]\r\n",
    "                    table[\"Activité principale \"] = [data[desc_start+21:(desc_end-1)]]\r\n",
    "    return pd.DataFrame(table)"
   ],
   "outputs": [],
   "metadata": {}
  },
  {
   "cell_type": "code",
   "execution_count": null,
   "source": [
    "files = glob.glob(\"*txt\")\r\n",
    "for _ in files:\r\n",
    "    print(extract_data(_))"
   ],
   "outputs": [],
   "metadata": {}
  },
  {
   "cell_type": "code",
   "execution_count": 115,
   "source": [
    "test = {'Dénomination ': [' SG'], 'Activité principale ': [' Prêt-à-porter, chaussures et accessoires de mode'], 'SIREN (siège) ': [' 790 392 336'], 'N° de gestion ': [' 2013B00025'], 'Début d’activité ': [' 15/02/2013'], 'Durée de la personne morale ': [' 99 ans'], 'Date de clôture ': [' 31 Décembre'], 'Forme juridique ': [' Société à responsabilité limitée'], 'Capital social ': [' 10 000.00 €'], 'Adresse du siège ': [' 12 rue de Famars 59300 Valenciennes France'], 'Département du siège ': [' 59'], 'Nom, Prénom(s) ': [' DANZIN Sandrine (Gérant non associé)'], 'Date de naissance (mm/aaaa) ': [' 05/1969'], \"Nom d'usage \": [' GANGI'], 'Nom prénom ': [' DANZIN SANDRINE MARIE AUGUSTA'], 'Nationalité ': [' FRANCAISE'], 'Total parts indirectes ': [' OUI'], 'Total des droits de vote ': [' 99.99%'], 'Total vote indirect ': [' OUI'], \"Type d'établissement \": [' Siège et principal'], 'Enseigne ': [' I.Code'], 'Origine du fonds ': [' Achat'], 'Type d’exploitation ': [' Exploitation directe'], 'Activité ': [' Prêt-à-porter, chaussures et accessoires de mode'], 'Adresse ': [' 12 rue de Famars '], 'Département ': [' 59']}"
   ],
   "outputs": [],
   "metadata": {}
  },
  {
   "cell_type": "code",
   "execution_count": 116,
   "source": [
    "pd.DataFrame(test)"
   ],
   "outputs": [
    {
     "output_type": "execute_result",
     "data": {
      "text/html": [
       "<div>\n",
       "<style scoped>\n",
       "    .dataframe tbody tr th:only-of-type {\n",
       "        vertical-align: middle;\n",
       "    }\n",
       "\n",
       "    .dataframe tbody tr th {\n",
       "        vertical-align: top;\n",
       "    }\n",
       "\n",
       "    .dataframe thead th {\n",
       "        text-align: right;\n",
       "    }\n",
       "</style>\n",
       "<table border=\"1\" class=\"dataframe\">\n",
       "  <thead>\n",
       "    <tr style=\"text-align: right;\">\n",
       "      <th></th>\n",
       "      <th>Dénomination</th>\n",
       "      <th>Activité principale</th>\n",
       "      <th>SIREN (siège)</th>\n",
       "      <th>N° de gestion</th>\n",
       "      <th>Début d’activité</th>\n",
       "      <th>Durée de la personne morale</th>\n",
       "      <th>Date de clôture</th>\n",
       "      <th>Forme juridique</th>\n",
       "      <th>Capital social</th>\n",
       "      <th>Adresse du siège</th>\n",
       "      <th>...</th>\n",
       "      <th>Total parts indirectes</th>\n",
       "      <th>Total des droits de vote</th>\n",
       "      <th>Total vote indirect</th>\n",
       "      <th>Type d'établissement</th>\n",
       "      <th>Enseigne</th>\n",
       "      <th>Origine du fonds</th>\n",
       "      <th>Type d’exploitation</th>\n",
       "      <th>Activité</th>\n",
       "      <th>Adresse</th>\n",
       "      <th>Département</th>\n",
       "    </tr>\n",
       "  </thead>\n",
       "  <tbody>\n",
       "    <tr>\n",
       "      <th>0</th>\n",
       "      <td>SG</td>\n",
       "      <td>Prêt-à-porter, chaussures et accessoires de mode</td>\n",
       "      <td>790 392 336</td>\n",
       "      <td>2013B00025</td>\n",
       "      <td>15/02/2013</td>\n",
       "      <td>99 ans</td>\n",
       "      <td>31 Décembre</td>\n",
       "      <td>Société à responsabilité limitée</td>\n",
       "      <td>10 000.00 €</td>\n",
       "      <td>12 rue de Famars 59300 Valenciennes France</td>\n",
       "      <td>...</td>\n",
       "      <td>OUI</td>\n",
       "      <td>99.99%</td>\n",
       "      <td>OUI</td>\n",
       "      <td>Siège et principal</td>\n",
       "      <td>I.Code</td>\n",
       "      <td>Achat</td>\n",
       "      <td>Exploitation directe</td>\n",
       "      <td>Prêt-à-porter, chaussures et accessoires de mode</td>\n",
       "      <td>12 rue de Famars</td>\n",
       "      <td>59</td>\n",
       "    </tr>\n",
       "  </tbody>\n",
       "</table>\n",
       "<p>1 rows × 26 columns</p>\n",
       "</div>"
      ],
      "text/plain": [
       "  Dénomination                                Activité principale   \\\n",
       "0            SG   Prêt-à-porter, chaussures et accessoires de mode   \n",
       "\n",
       "  SIREN (siège)  N° de gestion  Début d’activité   \\\n",
       "0    790 392 336     2013B00025        15/02/2013   \n",
       "\n",
       "  Durée de la personne morale  Date de clôture   \\\n",
       "0                       99 ans      31 Décembre   \n",
       "\n",
       "                    Forme juridique  Capital social   \\\n",
       "0   Société à responsabilité limitée     10 000.00 €   \n",
       "\n",
       "                             Adresse du siège   ... Total parts indirectes   \\\n",
       "0   12 rue de Famars 59300 Valenciennes France  ...                     OUI   \n",
       "\n",
       "  Total des droits de vote  Total vote indirect  Type d'établissement   \\\n",
       "0                    99.99%                  OUI    Siège et principal   \n",
       "\n",
       "  Enseigne  Origine du fonds    Type d’exploitation   \\\n",
       "0    I.Code             Achat   Exploitation directe   \n",
       "\n",
       "                                           Activité             Adresse   \\\n",
       "0   Prêt-à-porter, chaussures et accessoires de mode   12 rue de Famars    \n",
       "\n",
       "  Département   \n",
       "0           59  \n",
       "\n",
       "[1 rows x 26 columns]"
      ]
     },
     "metadata": {},
     "execution_count": 116
    }
   ],
   "metadata": {}
  },
  {
   "cell_type": "code",
   "execution_count": null,
   "source": [
    "json.dump(test, open( \"text.json\", 'w'))\r\n"
   ],
   "outputs": [],
   "metadata": {}
  }
 ],
 "metadata": {
  "orig_nbformat": 4,
  "language_info": {
   "name": "python",
   "version": "3.9.7",
   "mimetype": "text/x-python",
   "codemirror_mode": {
    "name": "ipython",
    "version": 3
   },
   "pygments_lexer": "ipython3",
   "nbconvert_exporter": "python",
   "file_extension": ".py"
  },
  "kernelspec": {
   "name": "python3",
   "display_name": "Python 3.9.7 64-bit ('scraping': conda)"
  },
  "interpreter": {
   "hash": "f1ca0a5c92fb2d3f8ca1f1ff1bbd4bb9014df2d10a104764019672e1a625de75"
  }
 },
 "nbformat": 4,
 "nbformat_minor": 2
}