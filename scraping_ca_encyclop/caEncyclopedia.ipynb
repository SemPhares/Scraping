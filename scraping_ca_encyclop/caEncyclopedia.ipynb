{
 "cells": [
  {
   "cell_type": "code",
   "execution_count": 1,
   "metadata": {},
   "outputs": [],
   "source": [
    "from bs4 import BeautifulSoup\n",
    "import requests, random, time\n",
    "import itertools as it\n",
    "import pandas as pd\n",
    "\n",
    "from fake_useragent import UserAgent\n",
    "ua = UserAgent()"
   ]
  },
  {
   "cell_type": "code",
   "execution_count": 7,
   "metadata": {},
   "outputs": [],
   "source": [
    "url = 'https://www.thecanadianencyclopedia.ca/en/browse/things/business-economics/laws-programs'"
   ]
  },
  {
   "cell_type": "code",
   "execution_count": 2,
   "metadata": {},
   "outputs": [],
   "source": [
    "url = 'https://www.thecanadianencyclopedia.ca/en/browse/things'\n",
    "rep = requests.get(url,headers={'User-Agent': ua.random}).text\n",
    "# # lecture du code html et la recherche des balises\n",
    "soup = BeautifulSoup(rep)\n",
    "# récupérer tous les liens de la pages\n",
    "# others_url = [_.get('href') for _ in soup.find_all(\"a\", class_=\"page-link\")[:-1]]\n"
   ]
  },
  {
   "cell_type": "code",
   "execution_count": 12,
   "metadata": {},
   "outputs": [],
   "source": [
    "all_articles = []\n",
    "for _ in soup.find_all('a', class_=\"nav-submenu-cat accordion-item dropdown-item\"):\n",
    "    link = _.get(\"href\")\n",
    "    if 'browse' in link:\n",
    "        all_articles.append(link)"
   ]
  },
  {
   "cell_type": "code",
   "execution_count": 74,
   "metadata": {},
   "outputs": [],
   "source": [
    "def get_art_content(art_url):\n",
    "    # art_url = \"https://www.thecanadianencyclopedia.ca/en/article/agricultural-stabilization-board\"\n",
    "    art_rep = requests.get(art_url,headers={'User-Agent': ua.random}).text\n",
    "    art_soup = BeautifulSoup(art_rep)\n",
    "\n",
    "    for _ in art_soup.find_all('div',id=\"article-content-def\"):\n",
    "        text = '\\n'.join(p.text for p in _.find_all('p'))\n",
    "    \n",
    "    return text"
   ]
  },
  {
   "cell_type": "code",
   "execution_count": 34,
   "metadata": {},
   "outputs": [],
   "source": [
    "def get_page_data(soup):\n",
    "\n",
    "    #retourner le df des artciles du lien\n",
    "\n",
    "    lks = soup.find_all(\"div\", class_=\"search-single-info\")\n",
    "    df = {}\n",
    "    df[\"title\"] = list()\n",
    "    df[\"link\"] = list()\n",
    "    df[\"desc\"] = list()\n",
    "    df[\"text\"] = list()\n",
    "\n",
    "    for lk in lks:\n",
    "        link = lk.find(\"a\").get('href')\n",
    "        if 'article' in link:\n",
    "            df[\"title\"].append(lk.find('h3').text)\n",
    "            df[\"link\"].append(link)\n",
    "            df[\"desc\"].append(lk.find('p').text)\n",
    "            df['text'].append(get_art_content(link))\n",
    "\n",
    "    df = pd.DataFrame.from_dict(df)\n",
    "\n",
    "    return df\n"
   ]
  },
  {
   "cell_type": "code",
   "execution_count": 3,
   "metadata": {},
   "outputs": [],
   "source": [
    "def getAllEncyclopediaLink():\n",
    "\n",
    "    url = 'https://www.thecanadianencyclopedia.ca/en/browse/things'\n",
    "    rep = requests.get(url).text\n",
    "    soup = BeautifulSoup(rep,'html.parser')\n",
    "\n",
    "    all_articles = []\n",
    "    for _ in soup.find_all('div', class_=\"sb-tab sb-tab--separator\"):\n",
    "        link = (_.find('a').get('href'))\n",
    "        if len(link.split('/')) == 8:\n",
    "            all_articles.append(link)\n",
    "\n",
    "    return all_articles"
   ]
  },
  {
   "cell_type": "code",
   "execution_count": null,
   "metadata": {},
   "outputs": [],
   "source": [
    "all_articles = getAllEncyclopediaLink()\n",
    "all_articles"
   ]
  },
  {
   "cell_type": "code",
   "execution_count": 8,
   "metadata": {},
   "outputs": [],
   "source": [
    "from scraping import *"
   ]
  },
  {
   "cell_type": "code",
   "execution_count": null,
   "metadata": {},
   "outputs": [],
   "source": [
    "begin = all_articles.index('https://www.thecanadianencyclopedia.ca/en/browse/things/business-economics/companies')\n",
    "rest_links = all_articles[begin:]\n",
    "# rest_links"
   ]
  },
  {
   "cell_type": "code",
   "execution_count": 10,
   "metadata": {},
   "outputs": [],
   "source": [
    "for idx,url in enumerate(rest_links):\n",
    "    time.sleep(2)\n",
    "    get_url_articles(url) \n",
    "    logging.info(f'theme {url.split(\"/\")[-3:]} done')\n",
    "    logging.info(f'Percentage on total links : {round(((idx+begin)*100)/len(all_articles),2)}%')"
   ]
  }
 ],
 "metadata": {
  "interpreter": {
   "hash": "f1ca0a5c92fb2d3f8ca1f1ff1bbd4bb9014df2d10a104764019672e1a625de75"
  },
  "kernelspec": {
   "display_name": "Python 3.8.5 ('scraping')",
   "language": "python",
   "name": "python3"
  },
  "language_info": {
   "codemirror_mode": {
    "name": "ipython",
    "version": 3
   },
   "file_extension": ".py",
   "mimetype": "text/x-python",
   "name": "python",
   "nbconvert_exporter": "python",
   "pygments_lexer": "ipython3",
   "version": "3.9.7"
  },
  "orig_nbformat": 4
 },
 "nbformat": 4,
 "nbformat_minor": 2
}
